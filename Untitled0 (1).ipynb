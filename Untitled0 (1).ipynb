{
  "nbformat": 4,
  "nbformat_minor": 0,
  "metadata": {
    "colab": {
      "provenance": []
    },
    "kernelspec": {
      "name": "python3",
      "display_name": "Python 3"
    },
    "language_info": {
      "name": "python"
    }
  },
  "cells": [
    {
      "cell_type": "code",
      "execution_count": 11,
      "metadata": {
        "colab": {
          "base_uri": "https://localhost:8080/"
        },
        "id": "SsM-SomI3SQf",
        "outputId": "6ddce020-4252-48a7-b15f-bba12e0de5ff"
      },
      "outputs": [
        {
          "output_type": "stream",
          "name": "stdout",
          "text": [
            "3.10.12 (main, Jul 29 2024, 16:56:48) [GCC 11.4.0]\n"
          ]
        }
      ],
      "source": [
        "import sys\n",
        "print(sys.version)\n"
      ]
    },
    {
      "cell_type": "code",
      "source": [
        "from google.colab import drive\n",
        "drive.mount('/content/drive')\n",
        "import os\n",
        "os.chdir('/content/drive/My Drive/VERIYAPILARI_ISTKA')\n",
        "!pwd"
      ],
      "metadata": {
        "colab": {
          "base_uri": "https://localhost:8080/"
        },
        "id": "wUkjalsV-Sq4",
        "outputId": "35ee4f59-7e8d-4ac9-fe15-8e4eaf3a4dc9"
      },
      "execution_count": 12,
      "outputs": [
        {
          "output_type": "stream",
          "name": "stdout",
          "text": [
            "Drive already mounted at /content/drive; to attempt to forcibly remount, call drive.mount(\"/content/drive\", force_remount=True).\n",
            "/content/drive/My Drive/VERIYAPILARI_ISTKA\n"
          ]
        }
      ]
    },
    {
      "cell_type": "code",
      "source": [
        "print(\"Merhaba Dünya!\")\n",
        "x=10\n",
        "y=\"Murat\"\n",
        "print(x)\n",
        "print(y)"
      ],
      "metadata": {
        "colab": {
          "base_uri": "https://localhost:8080/"
        },
        "id": "TYGCJeSf-Xlw",
        "outputId": "8dfe9e5f-465f-405c-ff68-5daf80008d6d"
      },
      "execution_count": 13,
      "outputs": [
        {
          "output_type": "stream",
          "name": "stdout",
          "text": [
            "Merhaba Dünya!\n",
            "10\n",
            "Murat\n"
          ]
        }
      ]
    },
    {
      "cell_type": "code",
      "source": [
        "degisken_1=10\n",
        "Degisken2=20\n",
        "_degisken3=30"
      ],
      "metadata": {
        "id": "tluwp8Nf-aJJ"
      },
      "execution_count": 14,
      "outputs": []
    },
    {
      "cell_type": "code",
      "source": [
        "y=5\n",
        "z=\"Merhaba Dünya\"\n",
        "f=10.9\n",
        "print(y)\n",
        "print(z)\n",
        "print(type(y))\n",
        "print(type(f))"
      ],
      "metadata": {
        "colab": {
          "base_uri": "https://localhost:8080/"
        },
        "id": "vSp_EUi--j_4",
        "outputId": "237f7056-6e7f-4ac3-8744-a396d67ded9b"
      },
      "execution_count": 15,
      "outputs": [
        {
          "output_type": "stream",
          "name": "stdout",
          "text": [
            "5\n",
            "Merhaba Dünya\n",
            "<class 'int'>\n",
            "<class 'float'>\n"
          ]
        }
      ]
    },
    {
      "cell_type": "code",
      "source": [
        "a=10\n",
        "b=float(a)\n",
        "print(b,type(b))\n",
        "c=\"Python Programlama\"\n",
        "print(c)\n",
        "print(c,type(c))"
      ],
      "metadata": {
        "colab": {
          "base_uri": "https://localhost:8080/"
        },
        "id": "RLq7XkVy-q5I",
        "outputId": "db20279d-3c17-464a-acc6-585b9e3bf96c"
      },
      "execution_count": 16,
      "outputs": [
        {
          "output_type": "stream",
          "name": "stdout",
          "text": [
            "10.0 <class 'float'>\n",
            "Python Programlama\n",
            "Python Programlama <class 'str'>\n"
          ]
        }
      ]
    },
    {
      "cell_type": "code",
      "source": [
        "d=True\n",
        "e=False\n",
        "print(d)\n",
        "print(type(e))"
      ],
      "metadata": {
        "colab": {
          "base_uri": "https://localhost:8080/"
        },
        "id": "JWbiFwND-uDo",
        "outputId": "d3786f87-2412-4a98-f9a6-a1369e067320"
      },
      "execution_count": 17,
      "outputs": [
        {
          "output_type": "stream",
          "name": "stdout",
          "text": [
            "True\n",
            "<class 'bool'>\n"
          ]
        }
      ]
    },
    {
      "cell_type": "code",
      "source": [
        "\n",
        "mylist = [1,2,3,4,5]\n",
        "print(type(mylist))\n",
        "print(mylist)"
      ],
      "metadata": {
        "colab": {
          "base_uri": "https://localhost:8080/"
        },
        "id": "F5EMTvrD-z2C",
        "outputId": "c747def0-9fc8-4532-fe16-7d8ef85c4447"
      },
      "execution_count": 18,
      "outputs": [
        {
          "output_type": "stream",
          "name": "stdout",
          "text": [
            "<class 'list'>\n",
            "[1, 2, 3, 4, 5]\n"
          ]
        }
      ]
    },
    {
      "cell_type": "code",
      "source": [
        "demet =(1,2,3,4,5)\n",
        "print(type(demet))\n",
        "print(demet)"
      ],
      "metadata": {
        "colab": {
          "base_uri": "https://localhost:8080/"
        },
        "id": "pyjA14py--SK",
        "outputId": "fa29d063-9f8b-41e5-bc50-e0a85e6e31a4"
      },
      "execution_count": 19,
      "outputs": [
        {
          "output_type": "stream",
          "name": "stdout",
          "text": [
            "<class 'tuple'>\n",
            "(1, 2, 3, 4, 5)\n"
          ]
        }
      ]
    },
    {
      "cell_type": "code",
      "source": [
        "notlar={\n",
        "    \"Ali\" : 85,\n",
        "    \"Veli\" : 78,\n",
        "    \"Ayşe\" : 90\n",
        "}\n",
        "notlar[\"Fatma\"]=92\n",
        "notlar[\"Ali\"]=88\n",
        "print(notlar)"
      ],
      "metadata": {
        "colab": {
          "base_uri": "https://localhost:8080/"
        },
        "id": "ZpkZMCmP_N1i",
        "outputId": "c1158e22-d5cf-4d76-d7a1-fe528d132522"
      },
      "execution_count": 21,
      "outputs": [
        {
          "output_type": "stream",
          "name": "stdout",
          "text": [
            "{'Ali': 88, 'Veli': 78, 'Ayşe': 90, 'Fatma': 92}\n"
          ]
        }
      ]
    },
    {
      "cell_type": "code",
      "source": [
        "kodyazanlar={\"Ahmet\",\"Mehmet\",\"Ayşe\"}\n",
        "kodyazamayanlar={\"Ayşe\",\"Fatma\",\"Veli\"}\n",
        "ortak=kodyazanlar.intersection(kodyazamayanlar)\n",
        "print(\"Kafasına göre takılan öğrencilerin listesi :\",ortak)\n",
        "kod_yazmayan=kodyazamayanlar.difference(kodyazanlar)\n",
        "print(\"Kod çalışması yapmayan öğrenci listesi :\", kod_yazmayan)\n",
        "imza_listesi=kodyazanlar.union(kodyazamayanlar)\n",
        "print(\"Etkinlik katılımcıları :\",imza_listesi)"
      ],
      "metadata": {
        "colab": {
          "base_uri": "https://localhost:8080/"
        },
        "id": "dB4XAciaCV27",
        "outputId": "783125bb-5ded-44bf-aa8a-fb232e31c334"
      },
      "execution_count": 22,
      "outputs": [
        {
          "output_type": "stream",
          "name": "stdout",
          "text": [
            "Kafasına göre takılan öğrencilerin listesi : {'Ayşe'}\n",
            "Kod çalışması yapmayan öğrenci listesi : {'Fatma', 'Veli'}\n",
            "Etkinlik katılımcıları : {'Fatma', 'Ayşe', 'Ahmet', 'Veli', 'Mehmet'}\n"
          ]
        }
      ]
    },
    {
      "cell_type": "code",
      "source": [
        "girls=input(\"Bir sayı girin :\")\n",
        "try:\n",
        "  num=float(girls)\n",
        "  print(f\"Girilen sayı : {num}, tipi : {type(num)},\",abs(num))\n",
        "except ValueError:\n",
        "  print(\"Geçersiz veri girişidir\")"
      ],
      "metadata": {
        "colab": {
          "base_uri": "https://localhost:8080/"
        },
        "id": "UuLXKR01D-_2",
        "outputId": "1de0faaf-291d-494d-bfe8-baf1273aec93"
      },
      "execution_count": 24,
      "outputs": [
        {
          "output_type": "stream",
          "name": "stdout",
          "text": [
            "Bir sayı girin :10\n",
            "Girilen sayı : 10.0, tipi : <class 'float'>, 10.0\n"
          ]
        }
      ]
    },
    {
      "cell_type": "code",
      "source": [
        "import random\n",
        "\n",
        "rastgele_float=random.random()\n",
        "print(\"Rastgele Değer :\", rastgele_float)"
      ],
      "metadata": {
        "colab": {
          "base_uri": "https://localhost:8080/"
        },
        "id": "Xyi2ESMfFKZx",
        "outputId": "91232a27-42fc-4595-960e-5879895fbc92"
      },
      "execution_count": 25,
      "outputs": [
        {
          "output_type": "stream",
          "name": "stdout",
          "text": [
            "Rastgele Değer : 0.09963090541902797\n"
          ]
        }
      ]
    },
    {
      "cell_type": "code",
      "source": [
        "import random\n",
        "\n",
        "rastgele_sayi = random.randint(1, 10)\n",
        "print(\"Rastgele Deger:\", rastgele_sayi)\n",
        ""
      ],
      "metadata": {
        "colab": {
          "base_uri": "https://localhost:8080/"
        },
        "id": "_XRfyPvlFmdy",
        "outputId": "433bbf26-5791-4c52-dfef-65729862b15f"
      },
      "execution_count": 26,
      "outputs": [
        {
          "output_type": "stream",
          "name": "stdout",
          "text": [
            "Rastgele Deger: 4\n"
          ]
        }
      ]
    }
  ]
}