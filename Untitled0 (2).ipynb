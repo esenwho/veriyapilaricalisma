{
  "nbformat": 4,
  "nbformat_minor": 0,
  "metadata": {
    "colab": {
      "provenance": []
    },
    "kernelspec": {
      "name": "python3",
      "display_name": "Python 3"
    },
    "language_info": {
      "name": "python"
    }
  },
  "cells": [
    {
      "cell_type": "code",
      "execution_count": null,
      "metadata": {
        "colab": {
          "base_uri": "https://localhost:8080/"
        },
        "id": "SsM-SomI3SQf",
        "outputId": "6ddce020-4252-48a7-b15f-bba12e0de5ff"
      },
      "outputs": [
        {
          "output_type": "stream",
          "name": "stdout",
          "text": [
            "3.10.12 (main, Jul 29 2024, 16:56:48) [GCC 11.4.0]\n"
          ]
        }
      ],
      "source": [
        "import sys\n",
        "print(sys.version)\n"
      ]
    },
    {
      "cell_type": "code",
      "source": [
        "from google.colab import drive\n",
        "drive.mount('/content/drive')\n",
        "import os\n",
        "os.chdir('/content/drive/My Drive/VERIYAPILARI_ISTKA')\n",
        "!pwd"
      ],
      "metadata": {
        "colab": {
          "base_uri": "https://localhost:8080/"
        },
        "id": "wUkjalsV-Sq4",
        "outputId": "35ee4f59-7e8d-4ac9-fe15-8e4eaf3a4dc9"
      },
      "execution_count": null,
      "outputs": [
        {
          "output_type": "stream",
          "name": "stdout",
          "text": [
            "Drive already mounted at /content/drive; to attempt to forcibly remount, call drive.mount(\"/content/drive\", force_remount=True).\n",
            "/content/drive/My Drive/VERIYAPILARI_ISTKA\n"
          ]
        }
      ]
    },
    {
      "cell_type": "code",
      "source": [
        "p=float(input(\"Sayı gir :\"))\n",
        "if p>5 :\n",
        "  print(\"p , 5'ten büyüktür.\")\n",
        "else :\n",
        "  print(\"5 , p'den büyüktür.\")"
      ],
      "metadata": {
        "colab": {
          "base_uri": "https://localhost:8080/"
        },
        "id": "baITDfYd54he",
        "outputId": "670f8e4c-85e4-42b5-a25b-aa89cdc1a2de"
      },
      "execution_count": 18,
      "outputs": [
        {
          "output_type": "stream",
          "name": "stdout",
          "text": [
            "Sayı gir :5.9\n",
            "p , 5'ten büyüktür.\n"
          ]
        }
      ]
    },
    {
      "cell_type": "code",
      "source": [
        "k = 12\n",
        "l = 8\n",
        "\n",
        "if k > 10:\n",
        "    if l > 5:\n",
        "        print(\"x, 10'dan büyük ve y, 5'ten büyüktür.\")\n",
        "    else:\n",
        "        print(\"x, 10'dan büyük ama y, 5'ten küçük veya eşittir.\")\n",
        "else:\n",
        "    print(\"x, 10'dan küçük veya eşittir.\")"
      ],
      "metadata": {
        "colab": {
          "base_uri": "https://localhost:8080/"
        },
        "id": "ZpMtTaQ38qfG",
        "outputId": "e3ecd3f5-6c48-4a52-8bfc-d5f4e11a4c38"
      },
      "execution_count": 19,
      "outputs": [
        {
          "output_type": "stream",
          "name": "stdout",
          "text": [
            "x, 10'dan büyük ve y, 5'ten büyüktür.\n"
          ]
        }
      ]
    },
    {
      "cell_type": "code",
      "source": [
        "x = 7\n",
        "y = 3\n",
        "if x > 5 and y > 2:\n",
        "    print(\"x, 5'ten büyük ve y, 2'den büyüktür.\")\n",
        "if x > 5 or y > 5:\n",
        "    print(\"x veya y, 5'ten büyüktür.\")\n",
        "if not (x > 10):\n",
        "    print(\"x, 10'dan büyük değildir.\")"
      ],
      "metadata": {
        "colab": {
          "base_uri": "https://localhost:8080/"
        },
        "id": "LtvgadDDGLGZ",
        "outputId": "2d41b8a1-535d-4098-83c0-46f7cf7385e3"
      },
      "execution_count": 20,
      "outputs": [
        {
          "output_type": "stream",
          "name": "stdout",
          "text": [
            "x, 5'ten büyük ve y, 2'den büyüktür.\n",
            "x veya y, 5'ten büyüktür.\n",
            "x, 10'dan büyük değildir.\n"
          ]
        }
      ]
    },
    {
      "cell_type": "code",
      "source": [
        "notu = 85\n",
        "\n",
        "if notu >= 90:\n",
        "    print(\"Harf notu: A\")\n",
        "elif notu >= 80:\n",
        "    print(\"Harf notu: B\")\n",
        "elif notu >= 70:\n",
        "    print(\"Harf notu: C\")\n",
        "elif notu >= 60:\n",
        "    print(\"Harf notu: D\")\n",
        "else:\n",
        "    print(\"Harf notu: F\")"
      ],
      "metadata": {
        "id": "TVkvW3dnG5b_"
      },
      "execution_count": null,
      "outputs": []
    },
    {
      "cell_type": "code",
      "source": [
        "yas = 20\n",
        "\n",
        "if yas < 18:\n",
        "    print(\"Reşit değilsiniz.\")\n",
        "elif yas < 21:\n",
        "    print(\"Reşitsiniz ama içecek satın alamazsınız.\")\n",
        "else:\n",
        "    print(\"İçecek satın alabilirsiniz.\")"
      ],
      "metadata": {
        "colab": {
          "base_uri": "https://localhost:8080/"
        },
        "id": "nl1Kgq01He-9",
        "outputId": "39edc9e4-606f-4feb-d52d-b780c6e56abb"
      },
      "execution_count": 23,
      "outputs": [
        {
          "output_type": "stream",
          "name": "stdout",
          "text": [
            "Reşitsiniz ama içecek satın alamazsınız.\n"
          ]
        }
      ]
    },
    {
      "cell_type": "code",
      "source": [
        "sayi = int(input(\"Bir sayı gir\"))\n",
        "\n",
        "if sayi > 0:\n",
        "    print(\"Sayı pozitiftir.\")\n",
        "elif sayi < 0:\n",
        "    print(\"Sayı negatiftir.\")\n",
        "else:\n",
        "    print(\"Sayı sıfırdır.\")"
      ],
      "metadata": {
        "colab": {
          "base_uri": "https://localhost:8080/"
        },
        "id": "fC_zcJR6HiJF",
        "outputId": "1ba94183-23da-4397-8e0b-bedd0af2e6a3"
      },
      "execution_count": 24,
      "outputs": [
        {
          "output_type": "stream",
          "name": "stdout",
          "text": [
            "Bir sayı gir-9\n",
            "Sayı negatiftir.\n"
          ]
        }
      ]
    },
    {
      "cell_type": "code",
      "source": [
        "x=float(input(\"Sayı giriniz :\"))\n",
        "operator=str(input())\n",
        "y=float(input(\"Sayı giriniz :\"))\n",
        "if operator==\"+\":\n",
        "  toplam=x+y\n",
        "  print(toplam)\n",
        "elif operator==\"-\":\n",
        "  cikarma=x-y\n",
        "  print(cikarma)\n",
        "elif operator==\"*\":\n",
        "  carpma=x*y\n",
        "  print(carpma)\n",
        "elif operator==\"/\":\n",
        "  bolme=x/y\n",
        "  print(bolme)\n",
        "else :\n",
        "  print(\"Yanlış veya eksik veri girdiniz.\")"
      ],
      "metadata": {
        "colab": {
          "base_uri": "https://localhost:8080/"
        },
        "id": "M7Qvunfxx04X",
        "outputId": "a046f0b7-575d-4af3-bf59-790c58211662"
      },
      "execution_count": 28,
      "outputs": [
        {
          "output_type": "stream",
          "name": "stdout",
          "text": [
            "Sayı giriniz :10\n",
            "*\n",
            "Sayı giriniz :50\n",
            "500.0\n"
          ]
        }
      ]
    }
  ]
}