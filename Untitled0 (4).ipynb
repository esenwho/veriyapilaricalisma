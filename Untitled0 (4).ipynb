{
  "nbformat": 4,
  "nbformat_minor": 0,
  "metadata": {
    "colab": {
      "provenance": []
    },
    "kernelspec": {
      "name": "python3",
      "display_name": "Python 3"
    },
    "language_info": {
      "name": "python"
    }
  },
  "cells": [
    {
      "cell_type": "code",
      "execution_count": null,
      "metadata": {
        "colab": {
          "base_uri": "https://localhost:8080/"
        },
        "id": "SsM-SomI3SQf",
        "outputId": "56b10955-a4e4-41fb-8529-22fbc1eb9fc6"
      },
      "outputs": [
        {
          "output_type": "stream",
          "name": "stdout",
          "text": [
            "3.10.12 (main, Jul 29 2024, 16:56:48) [GCC 11.4.0]\n"
          ]
        }
      ],
      "source": [
        "import sys\n",
        "print(sys.version)\n"
      ]
    },
    {
      "cell_type": "code",
      "source": [
        "from google.colab import drive\n",
        "drive.mount('/content/drive')\n",
        "import os\n",
        "os.chdir('/content/drive/My Drive/VERIYAPILARI_ISTKA')\n",
        "!pwd"
      ],
      "metadata": {
        "colab": {
          "base_uri": "https://localhost:8080/"
        },
        "id": "wUkjalsV-Sq4",
        "outputId": "91e48739-5d8f-49a1-a762-b429c6de639d"
      },
      "execution_count": null,
      "outputs": [
        {
          "output_type": "stream",
          "name": "stdout",
          "text": [
            "Mounted at /content/drive\n",
            "/content/drive/My Drive/VERIYAPILARI_ISTKA\n"
          ]
        }
      ]
    },
    {
      "cell_type": "code",
      "source": [
        "sayi_dizisi=[]\n",
        "i=1\n",
        "while i<=100:\n",
        "  if i%7==0:\n",
        "    sayi_dizisi.append(i)\n",
        "    print(\"7'ye bölünen  sayılar :\",i)\n",
        "    i=i+1\n",
        "  else:\n",
        "    print(\"7'ye bölünmeyen sayılar :\", i)\n",
        "    i=i+1\n",
        "print(\"Toplam sayı :\",len(sayi_dizisi))"
      ],
      "metadata": {
        "colab": {
          "base_uri": "https://localhost:8080/"
        },
        "id": "M_4oVsWNEfeS",
        "outputId": "7d2f48f5-252a-432b-a5cd-a108bcd833af"
      },
      "execution_count": 4,
      "outputs": [
        {
          "output_type": "stream",
          "name": "stdout",
          "text": [
            "7'ye bölünmeyen sayılar : 1\n",
            "7'ye bölünmeyen sayılar : 2\n",
            "7'ye bölünmeyen sayılar : 3\n",
            "7'ye bölünmeyen sayılar : 4\n",
            "7'ye bölünmeyen sayılar : 5\n",
            "7'ye bölünmeyen sayılar : 6\n",
            "7'ye bölünen  sayılar : 7\n",
            "7'ye bölünmeyen sayılar : 8\n",
            "7'ye bölünmeyen sayılar : 9\n",
            "7'ye bölünmeyen sayılar : 10\n",
            "7'ye bölünmeyen sayılar : 11\n",
            "7'ye bölünmeyen sayılar : 12\n",
            "7'ye bölünmeyen sayılar : 13\n",
            "7'ye bölünen  sayılar : 14\n",
            "7'ye bölünmeyen sayılar : 15\n",
            "7'ye bölünmeyen sayılar : 16\n",
            "7'ye bölünmeyen sayılar : 17\n",
            "7'ye bölünmeyen sayılar : 18\n",
            "7'ye bölünmeyen sayılar : 19\n",
            "7'ye bölünmeyen sayılar : 20\n",
            "7'ye bölünen  sayılar : 21\n",
            "7'ye bölünmeyen sayılar : 22\n",
            "7'ye bölünmeyen sayılar : 23\n",
            "7'ye bölünmeyen sayılar : 24\n",
            "7'ye bölünmeyen sayılar : 25\n",
            "7'ye bölünmeyen sayılar : 26\n",
            "7'ye bölünmeyen sayılar : 27\n",
            "7'ye bölünen  sayılar : 28\n",
            "7'ye bölünmeyen sayılar : 29\n",
            "7'ye bölünmeyen sayılar : 30\n",
            "7'ye bölünmeyen sayılar : 31\n",
            "7'ye bölünmeyen sayılar : 32\n",
            "7'ye bölünmeyen sayılar : 33\n",
            "7'ye bölünmeyen sayılar : 34\n",
            "7'ye bölünen  sayılar : 35\n",
            "7'ye bölünmeyen sayılar : 36\n",
            "7'ye bölünmeyen sayılar : 37\n",
            "7'ye bölünmeyen sayılar : 38\n",
            "7'ye bölünmeyen sayılar : 39\n",
            "7'ye bölünmeyen sayılar : 40\n",
            "7'ye bölünmeyen sayılar : 41\n",
            "7'ye bölünen  sayılar : 42\n",
            "7'ye bölünmeyen sayılar : 43\n",
            "7'ye bölünmeyen sayılar : 44\n",
            "7'ye bölünmeyen sayılar : 45\n",
            "7'ye bölünmeyen sayılar : 46\n",
            "7'ye bölünmeyen sayılar : 47\n",
            "7'ye bölünmeyen sayılar : 48\n",
            "7'ye bölünen  sayılar : 49\n",
            "7'ye bölünmeyen sayılar : 50\n",
            "7'ye bölünmeyen sayılar : 51\n",
            "7'ye bölünmeyen sayılar : 52\n",
            "7'ye bölünmeyen sayılar : 53\n",
            "7'ye bölünmeyen sayılar : 54\n",
            "7'ye bölünmeyen sayılar : 55\n",
            "7'ye bölünen  sayılar : 56\n",
            "7'ye bölünmeyen sayılar : 57\n",
            "7'ye bölünmeyen sayılar : 58\n",
            "7'ye bölünmeyen sayılar : 59\n",
            "7'ye bölünmeyen sayılar : 60\n",
            "7'ye bölünmeyen sayılar : 61\n",
            "7'ye bölünmeyen sayılar : 62\n",
            "7'ye bölünen  sayılar : 63\n",
            "7'ye bölünmeyen sayılar : 64\n",
            "7'ye bölünmeyen sayılar : 65\n",
            "7'ye bölünmeyen sayılar : 66\n",
            "7'ye bölünmeyen sayılar : 67\n",
            "7'ye bölünmeyen sayılar : 68\n",
            "7'ye bölünmeyen sayılar : 69\n",
            "7'ye bölünen  sayılar : 70\n",
            "7'ye bölünmeyen sayılar : 71\n",
            "7'ye bölünmeyen sayılar : 72\n",
            "7'ye bölünmeyen sayılar : 73\n",
            "7'ye bölünmeyen sayılar : 74\n",
            "7'ye bölünmeyen sayılar : 75\n",
            "7'ye bölünmeyen sayılar : 76\n",
            "7'ye bölünen  sayılar : 77\n",
            "7'ye bölünmeyen sayılar : 78\n",
            "7'ye bölünmeyen sayılar : 79\n",
            "7'ye bölünmeyen sayılar : 80\n",
            "7'ye bölünmeyen sayılar : 81\n",
            "7'ye bölünmeyen sayılar : 82\n",
            "7'ye bölünmeyen sayılar : 83\n",
            "7'ye bölünen  sayılar : 84\n",
            "7'ye bölünmeyen sayılar : 85\n",
            "7'ye bölünmeyen sayılar : 86\n",
            "7'ye bölünmeyen sayılar : 87\n",
            "7'ye bölünmeyen sayılar : 88\n",
            "7'ye bölünmeyen sayılar : 89\n",
            "7'ye bölünmeyen sayılar : 90\n",
            "7'ye bölünen  sayılar : 91\n",
            "7'ye bölünmeyen sayılar : 92\n",
            "7'ye bölünmeyen sayılar : 93\n",
            "7'ye bölünmeyen sayılar : 94\n",
            "7'ye bölünmeyen sayılar : 95\n",
            "7'ye bölünmeyen sayılar : 96\n",
            "7'ye bölünmeyen sayılar : 97\n",
            "7'ye bölünen  sayılar : 98\n",
            "7'ye bölünmeyen sayılar : 99\n",
            "7'ye bölünmeyen sayılar : 100\n",
            "Toplam sayı : 14\n"
          ]
        }
      ]
    },
    {
      "cell_type": "code",
      "source": [
        "while True:\n",
        "  try:\n",
        "    sayi1=float(input(\"Birinci sayı giriniz :\"))\n",
        "    sayi2=float(input(\"İkinci sayıyı giriniz :\"))\n",
        "    if sayi1>sayi2:\n",
        "      print(\"İlk sayı büyüktür.\")\n",
        "    elif sayi2>sayi1:\n",
        "      print(\"İkinci sayı büyüktür.\")\n",
        "    else:\n",
        "      print(\"İki sayı birbirine eşittir.\")\n",
        "    break\n",
        "  except ValueError:\n",
        "    print(\"Lütfen geçerli sayı girin!\")\n"
      ],
      "metadata": {
        "colab": {
          "base_uri": "https://localhost:8080/"
        },
        "id": "vYLWGbHzGtOB",
        "outputId": "6abb7d4e-8d47-4b0f-83ca-373099a5b0bb"
      },
      "execution_count": 5,
      "outputs": [
        {
          "output_type": "stream",
          "name": "stdout",
          "text": [
            "Birinci sayı giriniz :10\n",
            "İkinci sayıyı giriniz :50\n",
            "İkinci sayı büyüktür.\n"
          ]
        }
      ]
    },
    {
      "cell_type": "code",
      "source": [
        "while True:\n",
        "  try:\n",
        "    sayi=int(input(\"Sayı Giriniz :\"))\n",
        "    if sayi<0:\n",
        "      print(\"Negatif sayıların faktöriyeli hesaplanmaz.\")\n",
        "    elif sayi==0 and sayi==1:\n",
        "      print(0)\n",
        "    else:\n",
        "      faktoriyel=1\n",
        "      while sayi>0:\n",
        "        faktoriyel*=sayi\n",
        "        sayi-=1\n",
        "      print(\"Sayının faktöriyeli :\",faktoriyel)\n",
        "      break\n",
        "  except ValueError:\n",
        "    print(\"Eksik sayı girdiniz!\")\n"
      ],
      "metadata": {
        "colab": {
          "base_uri": "https://localhost:8080/"
        },
        "id": "QW1RiMtjIycF",
        "outputId": "d95095b9-584a-46db-bcba-b4b0967698ce"
      },
      "execution_count": 14,
      "outputs": [
        {
          "output_type": "stream",
          "name": "stdout",
          "text": [
            "Sayı Giriniz :5\n",
            "Sayının faktöriyeli : 120\n"
          ]
        }
      ]
    },
    {
      "cell_type": "code",
      "source": [
        "while True:\n",
        "  try:\n",
        "     baslangicdegeri=int(input(\"Başlangıç Değerini Giriniz :\"))\n",
        "     if baslangicdegeri<0:\n",
        "      baslangicdegeri=abs(baslangicdegeri)\n",
        "      print(f\"Negatif değer girdiniz, pozitif olarak alındı: {baslangicdegeri}\")\n",
        "     else:\n",
        "       break\n",
        "  except ValueError:\n",
        "    print(\"Değer girmediniz!\")\n",
        "\n",
        "while True:\n",
        "  try:\n",
        "    bitisdegeri=int(input(\"Bitiş Değerini Giriniz :\"))\n",
        "    if bitisdegeri<0:\n",
        "      bitisdegeri=abs(bitisdegeri)\n",
        "      print(f\"Negatif değer girdiniz, pozitif olarak alındı: {bitisdegeri}\")\n",
        "    else:\n",
        "      break\n",
        "  except ValueError:\n",
        "    print(\"Değer girmediniz!\")\n",
        "\n",
        "cift_sayilar=[]\n",
        "ciftsayitoplami=0\n",
        "while bitisdegeri>=baslangicdegeri:\n",
        "  if baslangicdegeri%2==0:\n",
        "    cift_sayilar.append(baslangicdegeri)\n",
        "    ciftsayitoplami+=baslangicdegeri\n",
        "    print(\"Çİft sayılar :\", baslangicdegeri)\n",
        "    baslangicdegeri+=1\n",
        "  else:\n",
        "    baslangicdegeri+=1\n",
        "print(\"Çift Sayıların Toplamı :\",ciftsayitoplami)\n",
        "\n"
      ],
      "metadata": {
        "colab": {
          "base_uri": "https://localhost:8080/"
        },
        "id": "Kd1uVdIEMTnE",
        "outputId": "d401a69d-d015-49af-ca6c-addb1bbbff88"
      },
      "execution_count": 34,
      "outputs": [
        {
          "output_type": "stream",
          "name": "stdout",
          "text": [
            "Başlangıç Değerini Giriniz :1\n",
            "Bitiş Değerini Giriniz :10\n",
            "Çİft sayılar : 2\n",
            "Çİft sayılar : 4\n",
            "Çİft sayılar : 6\n",
            "Çİft sayılar : 8\n",
            "Çİft sayılar : 10\n",
            "Çift Sayıların Toplamı : 30\n"
          ]
        }
      ]
    },
    {
      "cell_type": "code",
      "source": [
        "sesliharfler='aeıioöuüAEIİOÖUÜ'\n",
        "kelime=input(\"Bir kelime giriniz :\")\n",
        "sesliharfsayisi=0\n",
        "sessizharfsayisi=0\n",
        "for harf in kelime:\n",
        "  if harf.isalpha():\n",
        "    if harf in sesliharfler:\n",
        "      sesliharfsayisi+=1\n",
        "    else:\n",
        "      sessizharfsayisi+=1\n",
        "\n",
        "print(kelime, \"kelimesinde\" , sesliharfsayisi , \"adet sesli harf ve\", sessizharfsayisi, \"sessiz harf vardır.\")"
      ],
      "metadata": {
        "colab": {
          "base_uri": "https://localhost:8080/"
        },
        "id": "pGscKruuWe7d",
        "outputId": "94810427-8ab3-48dc-a0ed-959213d9f74d"
      },
      "execution_count": 37,
      "outputs": [
        {
          "output_type": "stream",
          "name": "stdout",
          "text": [
            "Bir kelime giriniz :Esen Er\n",
            "Esen Er kelimesinde 3 adet sesli harf ve 3 sessiz harf vardır.\n"
          ]
        }
      ]
    }
  ]
}