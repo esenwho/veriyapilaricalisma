{
  "nbformat": 4,
  "nbformat_minor": 0,
  "metadata": {
    "colab": {
      "provenance": []
    },
    "kernelspec": {
      "name": "python3",
      "display_name": "Python 3"
    },
    "language_info": {
      "name": "python"
    }
  },
  "cells": [
    {
      "cell_type": "code",
      "execution_count": 3,
      "metadata": {
        "colab": {
          "base_uri": "https://localhost:8080/"
        },
        "id": "PcLCbPUrhDq2",
        "outputId": "b89f9de6-870d-405f-a27b-9964cc18bccd"
      },
      "outputs": [
        {
          "output_type": "stream",
          "name": "stdout",
          "text": [
            "3.10.12 (main, Jul 29 2024, 16:56:48) [GCC 11.4.0]\n"
          ]
        }
      ],
      "source": [
        "import sys\n",
        "\n",
        "print(sys.version)"
      ]
    },
    {
      "cell_type": "code",
      "source": [
        "from google.colab import drive\n",
        "\n",
        "drive.mount('/content/drive')"
      ],
      "metadata": {
        "colab": {
          "base_uri": "https://localhost:8080/"
        },
        "id": "E0ZHN5lfhSg3",
        "outputId": "d3cb9d06-54b9-497c-8431-cb9680f65bca"
      },
      "execution_count": 4,
      "outputs": [
        {
          "output_type": "stream",
          "name": "stdout",
          "text": [
            "Drive already mounted at /content/drive; to attempt to forcibly remount, call drive.mount(\"/content/drive\", force_remount=True).\n"
          ]
        }
      ]
    },
    {
      "cell_type": "code",
      "source": [
        "import os\n",
        "\n",
        "os.chdir('/content/drive/My Drive/VERIYAPILARI_ISTKA')\n",
        "\n",
        "!pwd"
      ],
      "metadata": {
        "colab": {
          "base_uri": "https://localhost:8080/"
        },
        "id": "4eDUt310jXO3",
        "outputId": "0c3670b0-12a7-449b-9f1d-ee974357044f"
      },
      "execution_count": 5,
      "outputs": [
        {
          "output_type": "stream",
          "name": "stdout",
          "text": [
            "/content/drive/My Drive/VERIYAPILARI_ISTKA\n"
          ]
        }
      ]
    },
    {
      "cell_type": "code",
      "source": [
        "dizi = [2, 3, 5, 6, 8, 11, 14]\n",
        "\n",
        "numaralistesi = []\n",
        "\n",
        "for i in dizi:\n",
        "    if i % 2 == 0:\n",
        "        numaralistesi.append(i)\n",
        "\n",
        "print(f\"Listede bulunan çift sayılar: {numaralistesi}\")\n",
        "\n",
        "print(len(numaralistesi),\"adet çift sayı bulunmaktadır !!!\")"
      ],
      "metadata": {
        "colab": {
          "base_uri": "https://localhost:8080/"
        },
        "id": "8jJgkmDdh6no",
        "outputId": "377c14cd-9bee-44d1-bc28-ecd188abc257"
      },
      "execution_count": 8,
      "outputs": [
        {
          "output_type": "stream",
          "name": "stdout",
          "text": [
            "Listede bulunan çift sayılar: [2, 6, 8, 14]\n",
            "4 adet çift sayı bulunmaktadır !!!\n"
          ]
        }
      ]
    },
    {
      "cell_type": "code",
      "source": [
        "dizi = [\"Elma\", \"Muz\", \"Çilek\", \"Su\", \"Çikolata\"]\n",
        "\n",
        "aranacak_urun = \"Muz\"\n",
        "\n",
        "if aranacak_urun in dizi:\n",
        "\n",
        "    print(aranacak_urun, \"liste içerisinde mevcut.\")\n",
        "\n",
        "else:\n",
        "\n",
        "    print(aranacak_urun, \"liste içerisinde mevcut değil.\")"
      ],
      "metadata": {
        "colab": {
          "base_uri": "https://localhost:8080/"
        },
        "id": "_gXUu1Mhl4tv",
        "outputId": "91bf8eeb-67a5-499b-918e-82fbbe4fee75"
      },
      "execution_count": 10,
      "outputs": [
        {
          "output_type": "stream",
          "name": "stdout",
          "text": [
            "Muz liste içerisinde mevcut.\n"
          ]
        }
      ]
    },
    {
      "cell_type": "code",
      "source": [
        "dizi = [\"Elma\", \"Muz\", \"Çilek\", \"Su\", \"Çikolata\"]\n",
        "\n",
        "aranacak_urun = input(\"Aranacak Ürün Nedir? \")\n",
        "\n",
        "if aranacak_urun in dizi:\n",
        "\n",
        "    print(aranacak_urun, \"liste içerisinde mevcut.\")\n",
        "\n",
        "else:\n",
        "\n",
        "    print(aranacak_urun, \"liste içerisinde mevcut değil.\")"
      ],
      "metadata": {
        "colab": {
          "base_uri": "https://localhost:8080/"
        },
        "id": "kgIjCoYgmEm_",
        "outputId": "9a5a2e19-62c5-42c6-83c0-9760d097d8e2"
      },
      "execution_count": 13,
      "outputs": [
        {
          "output_type": "stream",
          "name": "stdout",
          "text": [
            "Aranacak Ürün Nedir? Balık\n",
            "Balık liste içerisinde mevcut değil.\n"
          ]
        }
      ]
    },
    {
      "cell_type": "code",
      "source": [
        "def toplama(a, b):\n",
        "\n",
        "    return a + b\n",
        "\n",
        "sonuc = toplama(5, 3)\n",
        "\n",
        "print(f\"Toplama sonucu: {sonuc}\")\n",
        "\n",
        "print(\"Toplama sonucu: \",sonuc)"
      ],
      "metadata": {
        "colab": {
          "base_uri": "https://localhost:8080/"
        },
        "id": "LebKrWoZmXOI",
        "outputId": "42fd2389-497e-4af2-f35d-23c7acc5cddb"
      },
      "execution_count": 14,
      "outputs": [
        {
          "output_type": "stream",
          "name": "stdout",
          "text": [
            "Toplama sonucu: 8\n",
            "Toplama sonucu:  8\n"
          ]
        }
      ]
    },
    {
      "cell_type": "code",
      "source": [
        "sayilar = [1, 2, 3, 4, 5]\n",
        "\n",
        "def liste_toplam(liste):\n",
        "\n",
        "    toplam = 0\n",
        "\n",
        "    for eleman in liste:\n",
        "\n",
        "        toplam += eleman\n",
        "\n",
        "    return toplam\n",
        "\n",
        "sonuc = liste_toplam(sayilar)\n",
        "\n",
        "print(\"Toplama sonucu: \",sonuc)"
      ],
      "metadata": {
        "colab": {
          "base_uri": "https://localhost:8080/"
        },
        "id": "IMHgJ4mLmhxv",
        "outputId": "0527684f-d45c-440e-9123-e257c40710cc"
      },
      "execution_count": 15,
      "outputs": [
        {
          "output_type": "stream",
          "name": "stdout",
          "text": [
            "Toplama sonucu:  15\n"
          ]
        }
      ]
    },
    {
      "cell_type": "code",
      "source": [
        "def fibonacci(n):\n",
        "\n",
        "    if n <= 0:\n",
        "\n",
        "        return \"Geçersiz giriş\"\n",
        "\n",
        "    elif n == 1:\n",
        "\n",
        "        return 0\n",
        "\n",
        "    elif n == 2:\n",
        "\n",
        "        return 1\n",
        "\n",
        "    else:\n",
        "\n",
        "        return fibonacci(n-1) + fibonacci(n-2)\n",
        "\n",
        "n = 7\n",
        "\n",
        "sonuc = fibonacci(n)\n",
        "\n",
        "print(f\"Fibonacci dizisinin {n}. elemanı: {sonuc}\")"
      ],
      "metadata": {
        "colab": {
          "base_uri": "https://localhost:8080/"
        },
        "id": "4lUlLqtfnTOo",
        "outputId": "45b0eb9c-f7b2-46ab-dfaf-1e171b808a7f"
      },
      "execution_count": 20,
      "outputs": [
        {
          "output_type": "stream",
          "name": "stdout",
          "text": [
            "Fibonacci dizisinin 7. elemanı: 8\n"
          ]
        }
      ]
    },
    {
      "cell_type": "code",
      "source": [
        "def ebob(a, b):\n",
        "\n",
        "    while b:\n",
        "\n",
        "        a, b = b, a % b\n",
        "\n",
        "    return a\n",
        "\n",
        "def ekok(a, b):\n",
        "\n",
        "    return a * b // ebob(a, b)\n",
        "\n",
        "Bir_Sayi = int(input(\"Birinci sayıyı girin: \"))\n",
        "\n",
        "iki_Sayi = int(input(\"İkinci sayıyı girin: \"))\n",
        "\n",
        "ebob_sonuc = ebob(Bir_Sayi, iki_Sayi)\n",
        "\n",
        "ekok_sonuc = ekok(Bir_Sayi, iki_Sayi)\n",
        "\n",
        "print(\"Sayılarının EBOB'u: \", ebob_sonuc)\n",
        "\n",
        "print(\"Sayılarının EKOK'u: \", ekok_sonuc)\n",
        ""
      ],
      "metadata": {
        "colab": {
          "base_uri": "https://localhost:8080/"
        },
        "id": "OPS9-AOSn42n",
        "outputId": "0b57fde6-d861-43ea-f803-4cfc87738458"
      },
      "execution_count": 26,
      "outputs": [
        {
          "output_type": "stream",
          "name": "stdout",
          "text": [
            "Birinci sayıyı girin: 18\n",
            "İkinci sayıyı girin: 24\n",
            "Sayılarının EBOB'u:  6\n",
            "Sayılarının EKOK'u:  72\n"
          ]
        }
      ]
    },
    {
      "cell_type": "code",
      "source": [
        "def asal_mi(sayi):\n",
        "\n",
        "    if sayi < 2:\n",
        "\n",
        "        return False\n",
        "\n",
        "    for i in range(2, int(sayi ** 0.5) + 1):\n",
        "\n",
        "        if sayi % i == 0:\n",
        "\n",
        "            return False\n",
        "\n",
        "    return True\n",
        "\n",
        "def asal_sayilar(aralik):\n",
        "\n",
        "    asal_listesi = []\n",
        "\n",
        "    for sayi in range(2, aralik + 1):\n",
        "\n",
        "        if asal_mi(sayi):\n",
        "\n",
        "            asal_listesi.append(sayi)\n",
        "\n",
        "    return asal_listesi\n",
        "\n",
        "aralik = 50\n",
        "\n",
        "sonuc = asal_sayilar(aralik)\n",
        "\n",
        "print(\"1 ile\", aralik, \" arasındaki asal sayılar: \", sonuc)"
      ],
      "metadata": {
        "colab": {
          "base_uri": "https://localhost:8080/"
        },
        "id": "--ptlpqDpQkX",
        "outputId": "2f704b1c-6e57-49c7-81f5-56097f9a9e2b"
      },
      "execution_count": 27,
      "outputs": [
        {
          "output_type": "stream",
          "name": "stdout",
          "text": [
            "1 ile 50  arasındaki asal sayılar:  [2, 3, 5, 7, 11, 13, 17, 19, 23, 29, 31, 37, 41, 43, 47]\n"
          ]
        }
      ]
    },
    {
      "cell_type": "code",
      "source": [
        "buzdolabi = {\n",
        "\n",
        "    \"elma\": 5,\n",
        "\n",
        "    \"muz\": 3,\n",
        "\n",
        "    \"kiraz\": 2,\n",
        "\n",
        "    \"hurma\": 4\n",
        "\n",
        "}\n",
        "\n",
        "def buzdolabi_durumu_yazdir():\n",
        "\n",
        "    print(\"Buzdolabındaki meyve miktarları:\")\n",
        "\n",
        "    for meyve, miktar in buzdolabi.items():\n",
        "\n",
        "        print(f\"{meyve}: {miktar} kilo\")\n",
        "\n",
        "    print(\"\\n\")\n",
        "\n",
        "\n",
        "def meyve_tuket(meyve, miktar):\n",
        "\n",
        "    if meyve in buzdolabi:\n",
        "\n",
        "        if buzdolabi[meyve] >= miktar:\n",
        "\n",
        "            buzdolabi[meyve] -= miktar\n",
        "\n",
        "            print(f\"{miktar} kilo {meyve} tüketildi.\")\n",
        "\n",
        "            if buzdolabi[meyve] == 0:\n",
        "\n",
        "                print(f\"{meyve} kalmadı. {meyve} almalısın!\")\n",
        "\n",
        "                yeni_miktar = float(input(f\"Kaç kilo {meyve} almak istersiniz?: \"))\n",
        "\n",
        "                buzdolabi[meyve] = yeni_miktar\n",
        "\n",
        "                print(f\"{meyve} buzdolabına {yeni_miktar} kilo olarak eklendi.\")\n",
        "\n",
        "        else:\n",
        "\n",
        "            print(f\"Buzdolabında yeterli {meyve} yok. Mevcut miktar: {buzdolabi[meyve]} kilo.\")\n",
        "\n",
        "    else:\n",
        "\n",
        "        print(f\"Buzdolabında {meyve} bulunmuyor.\")\n",
        "\n",
        "print(\"Buzdolabı Uygulaması\")\n",
        "\n",
        "buzdolabi_durumu_yazdir()\n",
        "\n",
        "while True:\n",
        "\n",
        "    meyve = input(\"Hangi meyveyi tüketmek istersiniz? (Çıkmak için 'exit' yazın): \").lower()\n",
        "\n",
        "    if meyve == 'exit':\n",
        "\n",
        "        print(\"Uygulama sonlandırılıyor.\")\n",
        "\n",
        "        break\n",
        "\n",
        "    miktar = float(input(f\"Kaç kilo {meyve} tüketmek istersiniz?: \"))\n",
        "\n",
        "    meyve_tuket(meyve, miktar)\n",
        "\n",
        "    buzdolabi_durumu_yazdir()"
      ],
      "metadata": {
        "colab": {
          "base_uri": "https://localhost:8080/"
        },
        "id": "itMF57oTrf0H",
        "outputId": "2fe1f6af-d347-4b4c-afc5-7f9a2f5c6057"
      },
      "execution_count": 28,
      "outputs": [
        {
          "output_type": "stream",
          "name": "stdout",
          "text": [
            "Buzdolabı Uygulaması\n",
            "Buzdolabındaki meyve miktarları:\n",
            "elma: 5 kilo\n",
            "muz: 3 kilo\n",
            "kiraz: 2 kilo\n",
            "hurma: 4 kilo\n",
            "\n",
            "\n",
            "Hangi meyveyi tüketmek istersiniz? (Çıkmak için 'exit' yazın): exit\n",
            "Uygulama sonlandırılıyor.\n"
          ]
        }
      ]
    },
    {
      "cell_type": "code",
      "source": [
        "diyet_listesi = {\n",
        "\n",
        "    \"elma\": {\"miktar\": 5, \"kalori\": 52},\n",
        "\n",
        "    \"muz\": {\"miktar\": 3, \"kalori\": 89},\n",
        "\n",
        "    \"kiraz\": {\"miktar\": 2, \"kalori\": 50},\n",
        "\n",
        "    \"hurma\": {\"miktar\": 4, \"kalori\": 282}\n",
        "\n",
        "}\n",
        "\n",
        "def diyet_listesi_yazdir():\n",
        "\n",
        "    print(\"Diyet listesindeki besin miktarları ve kalorileri:\")\n",
        "\n",
        "    for besin, bilgi in diyet_listesi.items():\n",
        "\n",
        "        print(f\"{besin}: {bilgi['miktar']} Adet, Toplam Kalori: {bilgi['miktar'] * bilgi['kalori']} kalori\")\n",
        "\n",
        "    print(\"\\n\")\n",
        "\n",
        "def besin_tuket(besin, miktar):\n",
        "\n",
        "    if besin in diyet_listesi:\n",
        "\n",
        "        if diyet_listesi[besin][\"miktar\"] >= miktar:\n",
        "\n",
        "            diyet_listesi[besin][\"miktar\"] -= miktar\n",
        "\n",
        "            tuketilen_kalori = miktar * diyet_listesi[besin][\"kalori\"]\n",
        "\n",
        "            print(f\"{miktar} kilo {besin} tüketildi. Alınan kalori: {tuketilen_kalori} kalori.\")\n",
        "\n",
        "            if diyet_listesi[besin][\"miktar\"] == 0:\n",
        "\n",
        "                print(f\"{besin} kalmadı. {besin} almalısın!\")\n",
        "\n",
        "                yeni_miktar = float(input(f\"Kaç kilo {besin} almak istersiniz?: \"))\n",
        "\n",
        "                diyet_listesi[besin][\"miktar\"] = yeni_miktar\n",
        "\n",
        "                print(f\"{besin} diyet listesine {yeni_miktar} kilo olarak eklendi.\")\n",
        "\n",
        "        else:\n",
        "\n",
        "            print(f\"Diyet listesinde yeterli {besin} yok. Mevcut miktar: {diyet_listesi[besin]['miktar']} kilo.\")\n",
        "\n",
        "    else:\n",
        "\n",
        "        print(f\"Diyet listesinde {besin} bulunmuyor.\")\n",
        "\n",
        "print(\"Diyet Uygulaması\")\n",
        "\n",
        "diyet_listesi_yazdir()\n",
        "\n",
        "while True:\n",
        "\n",
        "    besin = input(\"Hangi besini tüketmek istersiniz? (Çıkmak için 'exit' yazın): \").lower()\n",
        "\n",
        "    if besin == 'exit':\n",
        "\n",
        "        print(\"Uygulama sonlandırılıyor.\")\n",
        "\n",
        "        break\n",
        "\n",
        "    miktar = float(input(f\"Kaç adet {besin} tüketmek istersiniz?: \"))\n",
        "\n",
        "    besin_tuket(besin, miktar)\n",
        "\n",
        "    diyet_listesi_yazdir()"
      ],
      "metadata": {
        "colab": {
          "base_uri": "https://localhost:8080/"
        },
        "id": "-Oxil_jj9gvv",
        "outputId": "f20f2f58-45a8-434e-b1c8-d9de9028f9fa"
      },
      "execution_count": 30,
      "outputs": [
        {
          "output_type": "stream",
          "name": "stdout",
          "text": [
            "Diyet Uygulaması\n",
            "Diyet listesindeki besin miktarları ve kalorileri:\n",
            "elma: 5 Adet, Toplam Kalori: 260 kalori\n",
            "muz: 3 Adet, Toplam Kalori: 267 kalori\n",
            "kiraz: 2 Adet, Toplam Kalori: 100 kalori\n",
            "hurma: 4 Adet, Toplam Kalori: 1128 kalori\n",
            "\n",
            "\n",
            "Hangi besini tüketmek istersiniz? (Çıkmak için 'exit' yazın): kiraz\n",
            "Kaç adet kiraz tüketmek istersiniz?: 1\n",
            "1.0 kilo kiraz tüketildi. Alınan kalori: 50.0 kalori.\n",
            "Diyet listesindeki besin miktarları ve kalorileri:\n",
            "elma: 5 Adet, Toplam Kalori: 260 kalori\n",
            "muz: 3 Adet, Toplam Kalori: 267 kalori\n",
            "kiraz: 1.0 Adet, Toplam Kalori: 50.0 kalori\n",
            "hurma: 4 Adet, Toplam Kalori: 1128 kalori\n",
            "\n",
            "\n",
            "Hangi besini tüketmek istersiniz? (Çıkmak için 'exit' yazın): hurma\n",
            "Kaç adet hurma tüketmek istersiniz?: 2\n",
            "2.0 kilo hurma tüketildi. Alınan kalori: 564.0 kalori.\n",
            "Diyet listesindeki besin miktarları ve kalorileri:\n",
            "elma: 5 Adet, Toplam Kalori: 260 kalori\n",
            "muz: 3 Adet, Toplam Kalori: 267 kalori\n",
            "kiraz: 1.0 Adet, Toplam Kalori: 50.0 kalori\n",
            "hurma: 2.0 Adet, Toplam Kalori: 564.0 kalori\n",
            "\n",
            "\n",
            "Hangi besini tüketmek istersiniz? (Çıkmak için 'exit' yazın): exit\n",
            "Uygulama sonlandırılıyor.\n"
          ]
        }
      ]
    }
  ]
}